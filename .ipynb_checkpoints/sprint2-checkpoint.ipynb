{
 "cells": [
  {
   "cell_type": "code",
   "execution_count": 12,
   "id": "18169a40",
   "metadata": {},
   "outputs": [],
   "source": [
    "import pandas as pd\n",
    "import math"
   ]
  },
  {
   "cell_type": "code",
   "execution_count": 18,
   "id": "d60b217a",
   "metadata": {},
   "outputs": [],
   "source": [
    "dataMusic = pd.read_csv(\"sprint2DataBase.csv\", sep=\";\")\n",
    "dataMusic = dataMusic.set_index(\"Nombre\")"
   ]
  },
  {
   "cell_type": "code",
   "execution_count": 19,
   "id": "7a3240cf",
   "metadata": {},
   "outputs": [
    {
     "data": {
      "text/html": [
       "<div>\n",
       "<style scoped>\n",
       "    .dataframe tbody tr th:only-of-type {\n",
       "        vertical-align: middle;\n",
       "    }\n",
       "\n",
       "    .dataframe tbody tr th {\n",
       "        vertical-align: top;\n",
       "    }\n",
       "\n",
       "    .dataframe thead th {\n",
       "        text-align: right;\n",
       "    }\n",
       "</style>\n",
       "<table border=\"1\" class=\"dataframe\">\n",
       "  <thead>\n",
       "    <tr style=\"text-align: right;\">\n",
       "      <th></th>\n",
       "      <th>gusto por el jazz</th>\n",
       "      <th>gusto por el rock</th>\n",
       "      <th>gusto por el regae</th>\n",
       "      <th>gusto por el metal</th>\n",
       "    </tr>\n",
       "    <tr>\n",
       "      <th>Nombre</th>\n",
       "      <th></th>\n",
       "      <th></th>\n",
       "      <th></th>\n",
       "      <th></th>\n",
       "    </tr>\n",
       "  </thead>\n",
       "  <tbody>\n",
       "    <tr>\n",
       "      <th>Raquel</th>\n",
       "      <td>0,4</td>\n",
       "      <td>0,6</td>\n",
       "      <td>0,6</td>\n",
       "      <td>0,9</td>\n",
       "    </tr>\n",
       "    <tr>\n",
       "      <th>Laura</th>\n",
       "      <td>0,2</td>\n",
       "      <td>0,9</td>\n",
       "      <td>0,6</td>\n",
       "      <td>0,6</td>\n",
       "    </tr>\n",
       "    <tr>\n",
       "      <th>Antonia</th>\n",
       "      <td>0,5</td>\n",
       "      <td>0,4</td>\n",
       "      <td>0,9</td>\n",
       "      <td>0,2</td>\n",
       "    </tr>\n",
       "    <tr>\n",
       "      <th>Catalina</th>\n",
       "      <td>0,8</td>\n",
       "      <td>0,7</td>\n",
       "      <td>0,7</td>\n",
       "      <td>0,4</td>\n",
       "    </tr>\n",
       "    <tr>\n",
       "      <th>Blanca</th>\n",
       "      <td>0,7</td>\n",
       "      <td>0,7</td>\n",
       "      <td>0,7</td>\n",
       "      <td>0,8</td>\n",
       "    </tr>\n",
       "  </tbody>\n",
       "</table>\n",
       "</div>"
      ],
      "text/plain": [
       "         gusto por el jazz gusto por el rock gusto por el regae  \\\n",
       "Nombre                                                            \n",
       "Raquel                 0,4               0,6                0,6   \n",
       "Laura                  0,2               0,9                0,6   \n",
       "Antonia                0,5               0,4                0,9   \n",
       "Catalina               0,8               0,7                0,7   \n",
       "Blanca                 0,7               0,7                0,7   \n",
       "\n",
       "         gusto por el metal  \n",
       "Nombre                       \n",
       "Raquel                  0,9  \n",
       "Laura                   0,6  \n",
       "Antonia                 0,2  \n",
       "Catalina                0,4  \n",
       "Blanca                  0,8  "
      ]
     },
     "execution_count": 19,
     "metadata": {},
     "output_type": "execute_result"
    }
   ],
   "source": [
    "dataMusic.head()"
   ]
  },
  {
   "cell_type": "code",
   "execution_count": 20,
   "id": "e7fbb96b",
   "metadata": {},
   "outputs": [
    {
     "data": {
      "text/html": [
       "<div>\n",
       "<style scoped>\n",
       "    .dataframe tbody tr th:only-of-type {\n",
       "        vertical-align: middle;\n",
       "    }\n",
       "\n",
       "    .dataframe tbody tr th {\n",
       "        vertical-align: top;\n",
       "    }\n",
       "\n",
       "    .dataframe thead th {\n",
       "        text-align: right;\n",
       "    }\n",
       "</style>\n",
       "<table border=\"1\" class=\"dataframe\">\n",
       "  <thead>\n",
       "    <tr style=\"text-align: right;\">\n",
       "      <th></th>\n",
       "      <th>gusto por el jazz</th>\n",
       "      <th>gusto por el rock</th>\n",
       "      <th>gusto por el regae</th>\n",
       "      <th>gusto por el metal</th>\n",
       "    </tr>\n",
       "    <tr>\n",
       "      <th>Nombre</th>\n",
       "      <th></th>\n",
       "      <th></th>\n",
       "      <th></th>\n",
       "      <th></th>\n",
       "    </tr>\n",
       "  </thead>\n",
       "  <tbody>\n",
       "    <tr>\n",
       "      <th>Blanca</th>\n",
       "      <td>0,7</td>\n",
       "      <td>0,7</td>\n",
       "      <td>0,7</td>\n",
       "      <td>0,8</td>\n",
       "    </tr>\n",
       "    <tr>\n",
       "      <th>Oscar</th>\n",
       "      <td>0,2</td>\n",
       "      <td>0,3</td>\n",
       "      <td>0,3</td>\n",
       "      <td>0,1</td>\n",
       "    </tr>\n",
       "    <tr>\n",
       "      <th>Lina</th>\n",
       "      <td>0,7</td>\n",
       "      <td>0,8</td>\n",
       "      <td>0,5</td>\n",
       "      <td>0,9</td>\n",
       "    </tr>\n",
       "    <tr>\n",
       "      <th>Daniela</th>\n",
       "      <td>0,9</td>\n",
       "      <td>0,4</td>\n",
       "      <td>0,8</td>\n",
       "      <td>0,7</td>\n",
       "    </tr>\n",
       "    <tr>\n",
       "      <th>Javier</th>\n",
       "      <td>0,8</td>\n",
       "      <td>0,9</td>\n",
       "      <td>0,4</td>\n",
       "      <td>0,8</td>\n",
       "    </tr>\n",
       "  </tbody>\n",
       "</table>\n",
       "</div>"
      ],
      "text/plain": [
       "         gusto por el jazz gusto por el rock gusto por el regae  \\\n",
       "Nombre                                                            \n",
       "Blanca                 0,7               0,7                0,7   \n",
       "Oscar                  0,2               0,3                0,3   \n",
       "Lina                   0,7               0,8                0,5   \n",
       "Daniela                0,9               0,4                0,8   \n",
       "Javier                 0,8               0,9                0,4   \n",
       "\n",
       "         gusto por el metal  \n",
       "Nombre                       \n",
       "Blanca                  0,8  \n",
       "Oscar                   0,1  \n",
       "Lina                    0,9  \n",
       "Daniela                 0,7  \n",
       "Javier                  0,8  "
      ]
     },
     "execution_count": 20,
     "metadata": {},
     "output_type": "execute_result"
    }
   ],
   "source": [
    "dataMusic.tail()"
   ]
  },
  {
   "cell_type": "code",
   "execution_count": 24,
   "id": "0ad51416",
   "metadata": {},
   "outputs": [],
   "source": [
    "def point_product(vector1, vector2):\n",
    "    return sum(vector1 * vector2)\n",
    "\n",
    "def vector_magnitud(vector):\n",
    "    return math.sqrt((vector **2).sum())\n",
    "\n",
    "def cosine_similarity(vector1, vector2):\n",
    "    return point_product(vector1,vector2)/(vector_magnitud(vector1)*vector_magnitud(vector2))\n"
   ]
  },
  {
   "cell_type": "code",
   "execution_count": 30,
   "id": "03548e58",
   "metadata": {},
   "outputs": [],
   "source": [
    "row1 = dataMusic.loc[\"Blanca\"].str.replace(',', '.').astype(float)"
   ]
  },
  {
   "cell_type": "code",
   "execution_count": 31,
   "id": "c0977845",
   "metadata": {},
   "outputs": [],
   "source": [
    "row2 = dataMusic.loc[\"Oscar\"].str.replace(',', '.').astype(float)"
   ]
  },
  {
   "cell_type": "code",
   "execution_count": 32,
   "id": "2ca31e09",
   "metadata": {},
   "outputs": [],
   "source": [
    "cosineSimilarity = cosine_similarity(row1,row2)"
   ]
  },
  {
   "cell_type": "code",
   "execution_count": 33,
   "id": "8c8ced94",
   "metadata": {},
   "outputs": [
    {
     "data": {
      "text/plain": [
       "0.9187023522073784"
      ]
     },
     "execution_count": 33,
     "metadata": {},
     "output_type": "execute_result"
    }
   ],
   "source": [
    "cosineSimilarity"
   ]
  },
  {
   "cell_type": "code",
   "execution_count": null,
   "id": "66c33161",
   "metadata": {},
   "outputs": [],
   "source": []
  }
 ],
 "metadata": {
  "kernelspec": {
   "display_name": "Python 3 (ipykernel)",
   "language": "python",
   "name": "python3"
  },
  "language_info": {
   "codemirror_mode": {
    "name": "ipython",
    "version": 3
   },
   "file_extension": ".py",
   "mimetype": "text/x-python",
   "name": "python",
   "nbconvert_exporter": "python",
   "pygments_lexer": "ipython3",
   "version": "3.9.13"
  }
 },
 "nbformat": 4,
 "nbformat_minor": 5
}
